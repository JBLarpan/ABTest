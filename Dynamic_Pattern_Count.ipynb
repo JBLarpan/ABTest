{
  "nbformat": 4,
  "nbformat_minor": 0,
  "metadata": {
    "colab": {
      "provenance": [],
      "authorship_tag": "ABX9TyObyLL71e1W4cgzAPr14DvA",
      "include_colab_link": true
    },
    "kernelspec": {
      "name": "python3",
      "display_name": "Python 3"
    },
    "language_info": {
      "name": "python"
    }
  },
  "cells": [
    {
      "cell_type": "markdown",
      "metadata": {
        "id": "view-in-github",
        "colab_type": "text"
      },
      "source": [
        "<a href=\"https://colab.research.google.com/github/JBLarpan/ABTest/blob/main/Dynamic_Pattern_Count.ipynb\" target=\"_parent\"><img src=\"https://colab.research.google.com/assets/colab-badge.svg\" alt=\"Open In Colab\"/></a>"
      ]
    },
    {
      "cell_type": "code",
      "execution_count": null,
      "metadata": {
        "id": "WgCOAAnSAhu1"
      },
      "outputs": [],
      "source": [
        "phone_numbers = [\n",
        "    \"+1 (123) 456-7890\",\n",
        "    \"+44 20 1234 5678\",\n",
        "    \"+49 (0)30 12345678\",\n",
        "    \"123-4567\",\n",
        "    \"987-65abc\",\n",
        "    \"555_1234\",\n",
        "    \"456 7890\",\n",
        "    \"999@0000\",\n",
        "    \"123-456789\",\n",
        "    \"111-2222\",\n",
        "    \"333-4444\",\n",
        "    \"abc-defg\",\n",
        "    \"555-6666\",\n",
        "    \"777 8888\",\n",
        "    \"999-0000\",\n",
        "    \"1234567890\",\n",
        "    \"888 9999\",\n",
        "    \"111_2222\",\n",
        "    \"abc-defg\",\n",
        "    \"+33 1 2345 6789\",\n",
        "    \"+81 3 1234 5678\",\n",
        "    \"+65 6123 4567\",\n",
        "    \"555/6666\",\n",
        "    \"(123) 456-7890\",\n",
        "    \"777.8888\",\n",
        "    \"+49 (0)30 98765432\",\n",
        "    \"999 0000\",\n",
        "    \"555-5555\",\n",
        "    \"+91 98765 43210\",\n",
        "    \"+86 10 1234 5678\",\n",
        "    \"+7 495 123-45-67\",\n",
        "    \"1111-2222\",\n",
        "    \"3333-4444\",\n",
        "    \"abc-defg\",\n",
        "    \"5555-6666\",\n",
        "    \"7777 8888\",\n",
        "    \"9999-0000\",\n",
        "    \"1234-5678\",\n",
        "    \"8888 9999\",\n",
        "    \"1111_2222\",\n",
        "    \"abc-defg\",\n",
        "    \"+33 1 2345 6789\",\n",
        "    \"+81 3 1234 5678\",\n",
        "    \"+65 6123 4567\",\n",
        "    \"5555/6666\",\n",
        "    \"(1234) 567-890\",\n",
        "    \"7777.8888\",\n",
        "    \"+49 (0)30 98765432\",\n",
        "    \"9999 0000\",\n",
        "    \"5555-5555\",\n",
        "    \"+91 98765 43210\",\n",
        "    \"+86 10 1234 5678\",\n",
        "    \"+7 495 123-45-67\",\n",
        "    \"12345-67890\",\n",
        "    \"88888 99999\",\n",
        "    \"11111_22222\",\n",
        "    \"abc-defg\",\n",
        "    \"+33 1 2345 6789\",\n",
        "    \"+81 3 1234 5678\",\n",
        "    \"+65 6123 4567\",\n",
        "    \"55555/66666\",\n",
        "    \"(12345) 678-901\",\n",
        "    \"77777.88888\",\n",
        "    \"+49 (0)30 98765432\",\n",
        "    \"99999 00000\",\n",
        "    \"55555-55555\",\n",
        "    \"+91 98765 43210\",\n",
        "    \"+86 10 1234 5678\",\n",
        "    \"+7 495 123-45-67\",\n",
        "    \"123456-789012\",\n",
        "    \"888888 999999\",\n",
        "    \"111111_222222\",\n",
        "    \"abc-defg\",\n",
        "    \"+33 1 2345 6789\",\n",
        "    \"+81 3 1234 5678\",\n",
        "    \"+65 6123 4567\",\n",
        "    \"555555/666666\",\n",
        "    \"(123456) 789-012\",\n",
        "    \"777777.888888\",\n",
        "    \"+49 (0)30 98765432\",\n",
        "    \"999999 000000\",\n",
        "    \"555555-555555\",\n",
        "]\n"
      ]
    },
    {
      "cell_type": "code",
      "source": [
        "import re\n",
        "import pandas as pd\n",
        "\n",
        "def generate_pattern(phone_number):\n",
        "    pattern = \"\"\n",
        "    for char in phone_number:\n",
        "        if char.isalnum():\n",
        "            pattern += 'm'\n",
        "        else:\n",
        "            pattern += char\n",
        "    return pattern"
      ],
      "metadata": {
        "id": "mxW_mQBDBaj5"
      },
      "execution_count": null,
      "outputs": []
    },
    {
      "cell_type": "code",
      "source": [
        "pattern_counts = {}\n",
        "\n",
        "for phone_number in phone_numbers:\n",
        "    pattern = generate_pattern(phone_number)\n",
        "\n",
        "    if pattern in pattern_counts:\n",
        "        pattern_counts[pattern] += 1\n",
        "    else:\n",
        "        pattern_counts[pattern] = 1\n",
        "data = {'Pattern': [], 'Count': []}\n",
        "\n",
        "for pattern, count in pattern_counts.items():\n",
        "    #formatted_pattern = re.sub(r'm+', 'm', pattern)  # Replace consecutive 'm's with a single 'm'\n",
        "    data['Pattern'].append(pattern)\n",
        "    data['Count'].append(count)\n",
        "\n",
        "df = pd.DataFrame(data)\n",
        "\n",
        "print(df)\n",
        "df.to_csv('patt.csv', index=False)"
      ],
      "metadata": {
        "colab": {
          "base_uri": "https://localhost:8080/"
        },
        "id": "BV-PJn0JBcjl",
        "outputId": "891a9cfb-ab9a-410b-8e9c-f558827263f3"
      },
      "execution_count": null,
      "outputs": [
        {
          "output_type": "stream",
          "name": "stdout",
          "text": [
            "               Pattern  Count\n",
            "0    +m (mmm) mmm-mmmm      1\n",
            "1     +mm mm mmmm mmmm      4\n",
            "2   +mm (m)mm mmmmmmmm      5\n",
            "3             mmm-mmmm     12\n",
            "4            mmm-mmmmm      1\n",
            "5             mmm_mmmm      2\n",
            "6             mmm mmmm      4\n",
            "7             mmm@mmmm      1\n",
            "8           mmm-mmmmmm      1\n",
            "9           mmmmmmmmmm      1\n",
            "10     +mm m mmmm mmmm      8\n",
            "11       +mm mmmm mmmm      4\n",
            "12            mmm/mmmm      1\n",
            "13      (mmm) mmm-mmmm      1\n",
            "14            mmm.mmmm      1\n",
            "15     +mm mmmmm mmmmm      3\n",
            "16    +m mmm mmm-mm-mm      3\n",
            "17           mmmm-mmmm      6\n",
            "18           mmmm mmmm      3\n",
            "19           mmmm_mmmm      1\n",
            "20           mmmm/mmmm      1\n",
            "21      (mmmm) mmm-mmm      1\n",
            "22           mmmm.mmmm      1\n",
            "23         mmmmm-mmmmm      2\n",
            "24         mmmmm mmmmm      2\n",
            "25         mmmmm_mmmmm      1\n",
            "26         mmmmm/mmmmm      1\n",
            "27     (mmmmm) mmm-mmm      1\n",
            "28         mmmmm.mmmmm      1\n",
            "29       mmmmmm-mmmmmm      2\n",
            "30       mmmmmm mmmmmm      2\n",
            "31       mmmmmm_mmmmmm      1\n",
            "32       mmmmmm/mmmmmm      1\n",
            "33    (mmmmmm) mmm-mmm      1\n",
            "34       mmmmmm.mmmmmm      1\n"
          ]
        }
      ]
    }
  ]
}